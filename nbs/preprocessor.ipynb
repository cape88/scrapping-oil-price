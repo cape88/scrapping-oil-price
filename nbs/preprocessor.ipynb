{
 "cells": [
  {
   "cell_type": "code",
   "execution_count": 1,
   "metadata": {},
   "outputs": [],
   "source": [
    "import os\n",
    "from urllib.request import urlopen\n",
    "import json\n",
    "import pandas as pd"
   ]
  },
  {
   "cell_type": "code",
   "execution_count": 2,
   "metadata": {},
   "outputs": [],
   "source": [
    "\n",
    "DOWNLOAD_DIR = \"~/Downloads\"\n",
    "\n",
    "def get_xls_paths():\n",
    "    path_str = os.path.expanduser(DOWNLOAD_DIR)\n",
    "    file_names = os.listdir(path_str)\n",
    "    result = []\n",
    "    for file_name in file_names:\n",
    "        if \"지역_위치별(주유소)\" in file_name:\n",
    "            result.append(f'{path_str}/{file_name}')\n",
    "    return result\n",
    "\n",
    "def concat_xls_data(file_paths):\n",
    "    dfs = []\n",
    "    for file_path in file_paths:\n",
    "        target = pd.read_excel(file_path, header=2, index_col=1, na_values='-')\n",
    "        dfs.append(target)\n",
    "    return pd.concat(dfs)\n",
    "\n",
    "def create_get_dir(file_name, save_dir):\n",
    "    if not os.path.exists(save_dir):\n",
    "        os.mkdir(save_dir)\n",
    "    return os.path.join(save_dir, file_name) \n",
    "\n",
    "def get_urb(address):\n",
    "    return address.split(\" \")[1]"
   ]
  },
  {
   "cell_type": "code",
   "execution_count": 3,
   "metadata": {},
   "outputs": [],
   "source": [
    "file_paths = get_xls_paths()\n",
    "base = concat_xls_data(file_paths)\n",
    "base_csv_dir = create_get_dir('base.csv', '../data')\n",
    "base.to_csv(base_csv_dir)"
   ]
  },
  {
   "cell_type": "code",
   "execution_count": 4,
   "metadata": {},
   "outputs": [],
   "source": [
    "processed = base \\\n",
    "    .copy() \\\n",
    "    .drop(columns=[\"지역\", \"주소\", \"전화번호\"])\n",
    "processed.insert(1, \"자치구\", [get_urb(d) for d in base[\"주소\"]])\n",
    "processed_csv_dir = create_get_dir('processed.csv', '../data')\n",
    "processed.to_csv(processed_csv_dir)"
   ]
  },
  {
   "cell_type": "code",
   "execution_count": 7,
   "metadata": {},
   "outputs": [],
   "source": [
    "GEO_URL = \"https://raw.githubusercontent.com/PinkWink/DataScience/master/data/02.%20skorea_municipalities_geo_simple.json\"\n",
    "with urlopen(GEO_URL) as geo_raw:\n",
    "    geo_json = json.load(geo_raw)\n",
    "\n",
    "geo_csv_dir = create_get_dir('geo_info.json', '../data')\n",
    "with open(geo_csv_dir, 'w') as json_file:\n",
    "    json.dump(geo_json, json_file)"
   ]
  }
 ],
 "metadata": {
  "kernelspec": {
   "display_name": "oilp-eda-hZWdUCU1",
   "language": "python",
   "name": "python3"
  },
  "language_info": {
   "codemirror_mode": {
    "name": "ipython",
    "version": 3
   },
   "file_extension": ".py",
   "mimetype": "text/x-python",
   "name": "python",
   "nbconvert_exporter": "python",
   "pygments_lexer": "ipython3",
   "version": "3.11.3"
  },
  "orig_nbformat": 4
 },
 "nbformat": 4,
 "nbformat_minor": 2
}
