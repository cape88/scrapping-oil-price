{
 "cells": [
  {
   "cell_type": "code",
   "execution_count": 49,
   "metadata": {},
   "outputs": [],
   "source": [
    "import os\n",
    "import pandas as pd"
   ]
  },
  {
   "cell_type": "code",
   "execution_count": 50,
   "metadata": {},
   "outputs": [],
   "source": [
    "\n",
    "DOWNLOAD_DIR = \"~/Downloads\"\n",
    "\n",
    "def get_xls_paths():\n",
    "    path_str = os.path.expanduser(DOWNLOAD_DIR)\n",
    "    file_names = os.listdir(path_str)\n",
    "    result = []\n",
    "    for file_name in file_names:\n",
    "        if \"지역_위치별(주유소)\" in file_name:\n",
    "            result.append(f'{path_str}/{file_name}')\n",
    "    return result\n",
    "\n",
    "def concat_xls_data(file_paths):\n",
    "    dfs = []\n",
    "    for file_path in file_paths:\n",
    "        target = pd.read_excel(file_path, header=2, index_col=1, na_values='-')\n",
    "        dfs.append(target)\n",
    "    return pd.concat(dfs)\n",
    "\n",
    "def create_get_dir(file_name, save_dir):\n",
    "    if not os.path.exists(save_dir):\n",
    "        os.mkdir(save_dir)\n",
    "    return os.path.join(save_dir, file_name) "
   ]
  },
  {
   "cell_type": "code",
   "execution_count": 51,
   "metadata": {},
   "outputs": [],
   "source": [
    "file_paths = get_xls_paths()\n",
    "out_dir = create_get_dir('base.csv', '../data')\n",
    "concat_xls_data(file_paths).to_csv(out_dir)"
   ]
  }
 ],
 "metadata": {
  "kernelspec": {
   "display_name": "oilp-eda-hZWdUCU1",
   "language": "python",
   "name": "python3"
  },
  "language_info": {
   "codemirror_mode": {
    "name": "ipython",
    "version": 3
   },
   "file_extension": ".py",
   "mimetype": "text/x-python",
   "name": "python",
   "nbconvert_exporter": "python",
   "pygments_lexer": "ipython3",
   "version": "3.11.3"
  },
  "orig_nbformat": 4
 },
 "nbformat": 4,
 "nbformat_minor": 2
}
