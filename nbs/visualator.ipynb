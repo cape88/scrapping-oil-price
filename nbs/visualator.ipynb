{
 "cells": [
  {
   "cell_type": "code",
   "execution_count": 79,
   "metadata": {},
   "outputs": [],
   "source": [
    "import numpy as np\n",
    "import pandas as pd\n",
    "import matplotlib.pyplot as plt\n",
    "import seaborn as sns\n",
    "import koreanize_matplotlib"
   ]
  },
  {
   "cell_type": "code",
   "execution_count": 80,
   "metadata": {},
   "outputs": [
    {
     "name": "stdout",
     "output_type": "stream",
     "text": [
      "<class 'pandas.core.frame.DataFrame'>\n",
      "Index: 443 entries, (주)서울에너지 직영 to HD현대오일뱅크㈜직영 연세주유소\n",
      "Data columns (total 7 columns):\n",
      " #   Column  Non-Null Count  Dtype  \n",
      "---  ------  --------------  -----  \n",
      " 0   상표      443 non-null    object \n",
      " 1   자치구     443 non-null    object \n",
      " 2   셀프여부    443 non-null    object \n",
      " 3   고급휘발유   234 non-null    float64\n",
      " 4   휘발유     439 non-null    float64\n",
      " 5   경유      439 non-null    float64\n",
      " 6   실내등유    138 non-null    float64\n",
      "dtypes: float64(4), object(3)\n",
      "memory usage: 27.7+ KB\n",
      "None\n"
     ]
    },
    {
     "data": {
      "text/html": [
       "<div>\n",
       "<style scoped>\n",
       "    .dataframe tbody tr th:only-of-type {\n",
       "        vertical-align: middle;\n",
       "    }\n",
       "\n",
       "    .dataframe tbody tr th {\n",
       "        vertical-align: top;\n",
       "    }\n",
       "\n",
       "    .dataframe thead th {\n",
       "        text-align: right;\n",
       "    }\n",
       "</style>\n",
       "<table border=\"1\" class=\"dataframe\">\n",
       "  <thead>\n",
       "    <tr style=\"text-align: right;\">\n",
       "      <th></th>\n",
       "      <th>상표</th>\n",
       "      <th>자치구</th>\n",
       "      <th>셀프여부</th>\n",
       "      <th>고급휘발유</th>\n",
       "      <th>휘발유</th>\n",
       "      <th>경유</th>\n",
       "      <th>실내등유</th>\n",
       "    </tr>\n",
       "    <tr>\n",
       "      <th>상호</th>\n",
       "      <th></th>\n",
       "      <th></th>\n",
       "      <th></th>\n",
       "      <th></th>\n",
       "      <th></th>\n",
       "      <th></th>\n",
       "      <th></th>\n",
       "    </tr>\n",
       "  </thead>\n",
       "  <tbody>\n",
       "    <tr>\n",
       "      <th>(주)서울에너지 직영</th>\n",
       "      <td>S-OIL</td>\n",
       "      <td>성동구</td>\n",
       "      <td>Y</td>\n",
       "      <td>NaN</td>\n",
       "      <td>1545.0</td>\n",
       "      <td>1375.0</td>\n",
       "      <td>NaN</td>\n",
       "    </tr>\n",
       "    <tr>\n",
       "      <th>정호주유소</th>\n",
       "      <td>자가상표</td>\n",
       "      <td>성동구</td>\n",
       "      <td>N</td>\n",
       "      <td>NaN</td>\n",
       "      <td>1545.0</td>\n",
       "      <td>1374.0</td>\n",
       "      <td>NaN</td>\n",
       "    </tr>\n",
       "    <tr>\n",
       "      <th>HD현대오일뱅크㈜직영 성동셀프주유소</th>\n",
       "      <td>현대오일뱅크</td>\n",
       "      <td>성동구</td>\n",
       "      <td>Y</td>\n",
       "      <td>2085.0</td>\n",
       "      <td>1565.0</td>\n",
       "      <td>1395.0</td>\n",
       "      <td>NaN</td>\n",
       "    </tr>\n",
       "  </tbody>\n",
       "</table>\n",
       "</div>"
      ],
      "text/plain": [
       "                         상표  자치구 셀프여부   고급휘발유     휘발유      경유  실내등유\n",
       "상호                                                                 \n",
       "(주)서울에너지 직영           S-OIL  성동구    Y     NaN  1545.0  1375.0   NaN\n",
       "정호주유소                  자가상표  성동구    N     NaN  1545.0  1374.0   NaN\n",
       "HD현대오일뱅크㈜직영 성동셀프주유소  현대오일뱅크  성동구    Y  2085.0  1565.0  1395.0   NaN"
      ]
     },
     "execution_count": 80,
     "metadata": {},
     "output_type": "execute_result"
    }
   ],
   "source": [
    "data = pd.read_csv('../data/processed.csv', index_col=0)\n",
    "print(data.info())\n",
    "data.head(3)"
   ]
  },
  {
   "cell_type": "code",
   "execution_count": 81,
   "metadata": {},
   "outputs": [
    {
     "data": {
      "text/plain": [
       "<Axes: xlabel='셀프여부', ylabel='휘발유'>"
      ]
     },
     "execution_count": 81,
     "metadata": {},
     "output_type": "execute_result"
    },
    {
     "data": {
      "image/png": "[encoded data removed]",
      "text/plain": [
       "<Figure size 300x300 with 1 Axes>"
      ]
     },
     "metadata": {},
     "output_type": "display_data"
    }
   ],
   "source": [
    "plt.figure(figsize=(3, 3))\n",
    "sns.boxplot(data, x=\"셀프여부\", y=\"휘발유\")"
   ]
  },
  {
   "cell_type": "code",
   "execution_count": 82,
   "metadata": {},
   "outputs": [
    {
     "data": {
      "text/html": [
       "<div>\n",
       "<style scoped>\n",
       "    .dataframe tbody tr th:only-of-type {\n",
       "        vertical-align: middle;\n",
       "    }\n",
       "\n",
       "    .dataframe tbody tr th {\n",
       "        vertical-align: top;\n",
       "    }\n",
       "\n",
       "    .dataframe thead th {\n",
       "        text-align: right;\n",
       "    }\n",
       "</style>\n",
       "<table border=\"1\" class=\"dataframe\">\n",
       "  <thead>\n",
       "    <tr style=\"text-align: right;\">\n",
       "      <th></th>\n",
       "      <th>경유</th>\n",
       "      <th>고급휘발유</th>\n",
       "      <th>실내등유</th>\n",
       "      <th>휘발유</th>\n",
       "    </tr>\n",
       "    <tr>\n",
       "      <th>자치구</th>\n",
       "      <th></th>\n",
       "      <th></th>\n",
       "      <th></th>\n",
       "      <th></th>\n",
       "    </tr>\n",
       "  </thead>\n",
       "  <tbody>\n",
       "    <tr>\n",
       "      <th>강북구</th>\n",
       "      <td>1383.500000</td>\n",
       "      <td>1825.000000</td>\n",
       "      <td>1400.000000</td>\n",
       "      <td>1549.333333</td>\n",
       "    </tr>\n",
       "    <tr>\n",
       "      <th>도봉구</th>\n",
       "      <td>1399.600000</td>\n",
       "      <td>1946.400000</td>\n",
       "      <td>1409.000000</td>\n",
       "      <td>1566.533333</td>\n",
       "    </tr>\n",
       "    <tr>\n",
       "      <th>은평구</th>\n",
       "      <td>1447.500000</td>\n",
       "      <td>1803.250000</td>\n",
       "      <td>1466.500000</td>\n",
       "      <td>1568.062500</td>\n",
       "    </tr>\n",
       "    <tr>\n",
       "      <th>동대문구</th>\n",
       "      <td>1403.777778</td>\n",
       "      <td>1789.500000</td>\n",
       "      <td>1482.857143</td>\n",
       "      <td>1573.555556</td>\n",
       "    </tr>\n",
       "    <tr>\n",
       "      <th>서대문구</th>\n",
       "      <td>1452.133333</td>\n",
       "      <td>1863.285714</td>\n",
       "      <td>1695.000000</td>\n",
       "      <td>1574.533333</td>\n",
       "    </tr>\n",
       "  </tbody>\n",
       "</table>\n",
       "</div>"
      ],
      "text/plain": [
       "               경유        고급휘발유         실내등유          휘발유\n",
       "자치구                                                     \n",
       "강북구   1383.500000  1825.000000  1400.000000  1549.333333\n",
       "도봉구   1399.600000  1946.400000  1409.000000  1566.533333\n",
       "은평구   1447.500000  1803.250000  1466.500000  1568.062500\n",
       "동대문구  1403.777778  1789.500000  1482.857143  1573.555556\n",
       "서대문구  1452.133333  1863.285714  1695.000000  1574.533333"
      ]
     },
     "execution_count": 82,
     "metadata": {},
     "output_type": "execute_result"
    }
   ],
   "source": [
    "pd.pivot_table(data, index=\"자치구\", values=[\"고급휘발유\", \"휘발유\", \"경유\", \"실내등유\"], aggfunc=np.mean) \\\n",
    "    .sort_values(by=\"휘발유\") \\\n",
    "    .head(5)"
   ]
  }
 ],
 "metadata": {
  "kernelspec": {
   "display_name": "oilp-eda-hZWdUCU1",
   "language": "python",
   "name": "python3"
  },
  "language_info": {
   "codemirror_mode": {
    "name": "ipython",
    "version": 3
   },
   "file_extension": ".py",
   "mimetype": "text/x-python",
   "name": "python",
   "nbconvert_exporter": "python",
   "pygments_lexer": "ipython3",
   "version": "3.11.3"
  },
  "orig_nbformat": 4
 },
 "nbformat": 4,
 "nbformat_minor": 2
}
